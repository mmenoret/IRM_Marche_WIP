{
 "cells": [
  {
   "cell_type": "code",
   "execution_count": null,
   "metadata": {},
   "outputs": [],
   "source": [
    "import numpy as np\n",
    "from sklearn.covariance import LedoitWolf, EmpiricalCovariance\n",
    "from sklearn.preprocessing import StandardScaler\n",
    "import matplotlib.pylab as plt\n",
    "%matplotlib inline"
   ]
  },
  {
   "cell_type": "code",
   "execution_count": null,
   "metadata": {},
   "outputs": [],
   "source": [
    "\n",
    "# Behavioral DATA\n",
    "fold_g = 'F:/IRM_Marche/'\n",
    "smt='ss'       \n",
    "names='ap','as','boh','bh','bi','cmp','cas','cs','cb','gm','gn','gbn','mv','ms','pm','pc','ph','pa','pv','pom','rdc','ti','vs'\n",
    "label=np.loadtxt(fold_g+'label_main.txt','S12')\n",
    "block=np.loadtxt(fold_g+'block_main.txt','int')\n",
    "motor_region=np.fromfile('F:/IRM_Marche/masquesROI/reg_whole70_basc444asym.np','int')\n",
    "index=np.array((10,35,47,50,52,67,69,70,80,89,91,95,108,110,111,121,124,126,139,142,144,148,154,176,184,191,195,199,200,\n",
    "               201,206,213,218,233,244,257,264,266,267,268,273,275,279,281,283,285,287,299,303,336,344,351,363,365,\n",
    "               378,381,387,403,432))\n",
    "sma=np.array((428,89,437,424,230,67,392))\n",
    "imag=np.array((268,344,67,154,275,35,257,52,213,273,403,432,266,10,195,126,283,89))\n",
    "stim=np.array((285,387,108,279,381,121,200,378,206,299,69,144,148,50))\n",
    "hand=np.array((47,264,365,303,351,281,154,244,432,267,199,257,111,70,287,89,124,110,201,69))\n",
    "foot=np.array((108,91,80,403,52,218,176,50,191,233,378,336,195,184,363,95,139,142))\n",
    "\n",
    "motor_region=sorted(index)\n",
    "n_loop=motor_region.shape[0]\n",
    "# Remove data not analysed\n",
    "mask_block=block==block\n",
    "for x in range(label.shape[0]):\n",
    "    if label[x,2]!=label[x-1,2]:\n",
    "        mask_block[x]=False\n",
    "    elif label[x,2]!=label[x-2,2]:\n",
    "        mask_block[x]=False\n",
    "c_des_out=np.logical_not(label[:,2]== b'des')\n",
    "tmp_out= np.logical_and(c_des_out,mask_block)\n",
    "c_rest_out=np.logical_not(label[:,0]== b'rest')\n",
    "cond_out= np.logical_and(tmp_out,c_rest_out)\n",
    "y=label[cond_out,2]\n",
    "labels=np.unique(y)\n",
    "# Prepare correlation\n",
    "estimator = EmpiricalCovariance()\n",
    "scaler=StandardScaler()\n",
    "# Create np array\n",
    "result_matrix = np.empty([len(names),motor_region.shape[0],labels.shape[0],labels.shape[0]])\n",
    "\n",
    "#Analysis for each subject\n",
    "for i,n in enumerate(sorted(names)):\n",
    "    roi_name=fold_g+'mni4060/asymroi_'+smt+'_'+n+'.npz'   \n",
    "    roi=np.load(roi_name)['roi'][cond_out]\n",
    "    roi=roi[:,motor_region-1] \n",
    "    for j in range(motor_region.shape[0]):\n",
    "        roi_j=roi[:,j]\n",
    "        roi_mat=np.zeros(((y==b'imp').sum(),len(labels)))\n",
    "        for z,lab in enumerate(sorted(labels)):\n",
    "            roi_mat[:,z]=roi_j[y==lab]           \n",
    "        roi_sc=scaler.fit_transform(roi_mat) \n",
    "        estimator.fit(roi_sc)\n",
    "        matrix=estimator.covariance_ \n",
    "        result_matrix[i,j]=1-matrix\n"
   ]
  },
  {
   "cell_type": "markdown",
   "metadata": {},
   "source": [
    "Sanity check on RDM matrices"
   ]
  },
  {
   "cell_type": "code",
   "execution_count": null,
   "metadata": {},
   "outputs": [],
   "source": [
    "result_matrix.shape"
   ]
  },
  {
   "cell_type": "code",
   "execution_count": null,
   "metadata": {
    "collapsed": true
   },
   "outputs": [],
   "source": [
    "import matplotlib.pyplot as plt\n",
    "%matplotlib inline"
   ]
  },
  {
   "cell_type": "code",
   "execution_count": null,
   "metadata": {},
   "outputs": [],
   "source": [
    "for c in result_matrix:\n",
    "    plt.imshow(c[0],interpolation='nearest')\n",
    "    plt.colorbar()\n",
    "    plt.show()"
   ]
  },
  {
   "cell_type": "markdown",
   "metadata": {},
   "source": [
    "Summarizing across subjects (grand average)"
   ]
  },
  {
   "cell_type": "code",
   "execution_count": null,
   "metadata": {},
   "outputs": [],
   "source": [
    "RDM_matrices_grav = result_matrix.mean(axis=0)\n",
    "print(RDM_matrices_grav.shape)"
   ]
  },
  {
   "cell_type": "code",
   "execution_count": null,
   "metadata": {
    "collapsed": true
   },
   "outputs": [],
   "source": [
    "from sklearn.manifold import MDS"
   ]
  },
  {
   "cell_type": "code",
   "execution_count": null,
   "metadata": {},
   "outputs": [],
   "source": [
    "\n",
    "for reg in range(n_loop):\n",
    "    allstress = []\n",
    "    for k in range(1,10):\n",
    "        mymds = MDS(dissimilarity='precomputed',n_components=k)\n",
    "        mymds.fit(RDM_matrices_grav[reg])\n",
    "        allstress.append(mymds.stress_)\n",
    "    \n",
    "    plt.plot(range(1,10),allstress)"
   ]
  },
  {
   "cell_type": "code",
   "execution_count": null,
   "metadata": {},
   "outputs": [],
   "source": [
    "from sklearn.manifold import MDS\n",
    "from math import sqrt\n",
    "ncompmds = 2\n",
    "mymds = MDS(dissimilarity='precomputed',n_components=ncompmds)\n",
    "\n",
    "colors = ['r', 'b','c','tab:orange']\n",
    "names = sorted(labels)\n",
    "names =[w.replace(b'imp', b'walk ME') for w in names]\n",
    "names =[w.replace(b'mboug', b'grasp ME') for w in names]\n",
    "names =[w.replace(b'mimag', b'grasp MI') for w in names]\n",
    "names =[w.replace(b'pimag', b'walk MI') for w in names]\n",
    "size=500\n",
    "nsub=int(sqrt(n_loop))\n",
    "fig=plt.figure(figsize=(30,30))\n",
    "for nroi in range(n_loop) : #range(184):\n",
    "    mds_res = mymds.fit_transform(RDM_matrices_grav[nroi])\n",
    "    ax = fig.add_subplot(nsub+1, nsub+1, nroi+1) # this line adds sub-axes\n",
    "    for i,color in enumerate(colors):\n",
    "        name=names[i]        \n",
    "        ax.scatter(mds_res[i, 0], mds_res[i, 1], s=size,\n",
    "               facecolors=color, label=name, edgecolors='k',)\n",
    "    ax.set_title(str(motor_region[nroi]))\n",
    "ax = fig.add_subplot(nsub+1, nsub+1, nroi+2) # this line adds sub-axes\n",
    "for i,color in enumerate(colors):\n",
    "        name=names[i]        \n",
    "        ax.scatter(mds_res[i, 0], mds_res[i, 1], s=size,\n",
    "               facecolors=color, label=name, edgecolors='k',)\n",
    "        \n",
    "ax.legend()\n",
    "\n"
   ]
  },
  {
   "cell_type": "code",
   "execution_count": null,
   "metadata": {},
   "outputs": [],
   "source": [
    "str(motor_region[nroi])"
   ]
  },
  {
   "cell_type": "code",
   "execution_count": null,
   "metadata": {},
   "outputs": [],
   "source": [
    " mds_res.shape"
   ]
  },
  {
   "cell_type": "code",
   "execution_count": null,
   "metadata": {},
   "outputs": [],
   "source": [
    "nroi"
   ]
  },
  {
   "cell_type": "code",
   "execution_count": null,
   "metadata": {},
   "outputs": [],
   "source": [
    "from sklearn.manifold import MDS\n",
    "ncompmds = 2\n",
    "mymds = MDS(dissimilarity='precomputed',n_components=ncompmds)\n",
    "\n",
    "plt.figure()\n",
    "for nroi in range(n_loop):\n",
    "    mds_res = mymds.fit_transform(RDM_matrices_grav[nroi])\n",
    "    for i,color in enumerate(colors):\n",
    "        name=names[i]\n",
    "        plt.scatter(mds_res[i, 0], mds_res[i, 1], \n",
    "               facecolors=color, label=name, edgecolors='k',)\n",
    "#plt.figure()\n",
    "#for nroi in range(184):\n",
    "#    mds_res = mymds.fit_transform(RDM_matrices_grav[nroi])\n",
    "#    for i,color in enumerate(colors):\n",
    "#        name=names[i]\n",
    " #       plt.scatter(mds_res[i, 0], mds_res[i, 2], \n",
    "#               facecolors=color, label=name, edgecolors='k',)\n",
    "#plt.figure()\n",
    "#for nroi in range(184):\n",
    "#    mds_res = mymds.fit_transform(RDM_matrices_grav[nroi])\n",
    "#    for i,color in enumerate(colors):\n",
    "#        name=names[i]\n",
    "#        plt.scatter(mds_res[i, 1], mds_res[i, 2], \n",
    " #              facecolors=color, label=name, edgecolors='k',)"
   ]
  },
  {
   "cell_type": "code",
   "execution_count": null,
   "metadata": {
    "collapsed": true
   },
   "outputs": [],
   "source": [
    "from networkx.convert_matrix import from_numpy_matrix"
   ]
  },
  {
   "cell_type": "code",
   "execution_count": null,
   "metadata": {},
   "outputs": [],
   "source": [
    "G = from_numpy_matrix(RDM_matrices_reduced_grav.mean(axis=0))"
   ]
  },
  {
   "cell_type": "code",
   "execution_count": null,
   "metadata": {
    "collapsed": true
   },
   "outputs": [],
   "source": [
    "posdict = G.node_dict_factory({0:mds_res[0],1:mds_res[1],2:mds_res[2],3:mds_res[3]})"
   ]
  },
  {
   "cell_type": "code",
   "execution_count": null,
   "metadata": {},
   "outputs": [],
   "source": [
    "from networkx.drawing.nx_pylab import draw\n",
    "\n",
    "draw(G,posdict)"
   ]
  },
  {
   "cell_type": "code",
   "execution_count": null,
   "metadata": {
    "collapsed": true
   },
   "outputs": [],
   "source": []
  }
 ],
 "metadata": {
  "kernelspec": {
   "display_name": "Python 3",
   "language": "python",
   "name": "python3"
  },
  "language_info": {
   "codemirror_mode": {
    "name": "ipython",
    "version": 3
   },
   "file_extension": ".py",
   "mimetype": "text/x-python",
   "name": "python",
   "nbconvert_exporter": "python",
   "pygments_lexer": "ipython3",
   "version": "3.5.3"
  }
 },
 "nbformat": 4,
 "nbformat_minor": 2
}
