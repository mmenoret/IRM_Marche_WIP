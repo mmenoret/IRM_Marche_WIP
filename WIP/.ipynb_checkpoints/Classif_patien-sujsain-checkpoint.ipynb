{
 "cells": [
  {
   "cell_type": "markdown",
   "metadata": {},
   "source": [
    "# Classification Patient Sujet Sain"
   ]
  },
  {
   "cell_type": "code",
   "execution_count": 17,
   "metadata": {},
   "outputs": [],
   "source": [
    "import numpy as np\n",
    "from scipy.stats import binom_test\n",
    "from sklearn.pipeline import Pipeline   \n",
    "from sklearn.svm import SVC\n",
    "from sklearn import preprocessing \n",
    "from sklearn.feature_selection import SelectKBest, f_classif\n",
    "from sklearn.metrics import accuracy_score\n",
    "from nilearn.datasets import load_mni152_brain_mask\n",
    "from nilearn import datasets\n",
    "from nilearn.input_data import NiftiLabelsMasker\n",
    "from sklearn.cross_validation import LeaveOneLabelOut, cross_val_score, permutation_test_score\n",
    "from sklearn.model_selection import GroupKFold\n",
    "from sklearn.externals.joblib import Memory\n",
    "%matplotlib inline\n",
    "from nilearn.plotting import plot_stat_map\n",
    "import sys\n",
    "sys.path[0]='Z:/GitHub/gsp-learn/'\n",
    "from gsplearn.GSPTransform import GraphTransformer\n",
    "from gsplearn.GSPPlot import plot_selectedregions"
   ]
  },
  {
   "cell_type": "code",
   "execution_count": 51,
   "metadata": {},
   "outputs": [],
   "source": [
    "motor_label=np.fromfile('F:/IRM_Marche/masquesROI/reg_motorC_basc444asym.np','int')\n",
    "#motor_label=np.fromfile('F:/IRM_Marche/masquesROI/reg_sma_basc444asym.np','int')\n",
    "#motor_label=np.fromfile('F:/IRM_Marche/harv_motorlarge_basc444asym.np','int')\n",
    "fold='F:/IRM_marche/all_mni_imp_imag/'\n",
    "foldrest='F:/IRM_marche/mnisup60/'\n",
    "smt='ss'       \n",
    "names=('an','bm','cc','ci','cjf','fb','fm','gmc','hnc','lm','mac',\n",
    "       'marc','marm','om','pic','pr','qs','ris','sn','tj','va',\n",
    "    '69','53','63','55','59','70','51','52','61','49','46','64','56','50','65','57',\n",
    "     '62','48','43','68','42','67','47','60','41','44','66','58')\n",
    "#'54', '45',gaucher\n",
    "label_suj=('h','h','h','h','h','h','h','h','h','h','h',\n",
    "       'h','h','h','h','h','h','h','h','h','h', \n",
    "     'p','p','p','p','p','p','p','p','p','p','p','p','p','p','p','p','p','p',\n",
    "     'p','p','p','p','p','p','p','p','p','p')\n",
    "scaler = preprocessing.StandardScaler()\n",
    "svm= SVC(C=1, kernel=\"linear\")  \n",
    "from sklearn.ensemble import ExtraTreesClassifier\n",
    "#svm = ExtraTreesClassifier(n_estimators=1000,\n",
    "#                              max_features=5,\n",
    "#                              random_state=0,\n",
    "#                           class_weight ='balanced')\n",
    "pipeline = Pipeline([('scale', scaler),('svm', svm)])\n",
    "block=np.loadtxt(fold+'block.txt','int')\n",
    "label=np.loadtxt(fold+'label.txt','S12')\n",
    "\n",
    "mask_block=block==block\n",
    "for x in range(label.shape[0]):\n",
    "    if label[x]!=label[x-1]:\n",
    "        mask_block[x]=False\n",
    "    elif label[x]!=label[x-2]:\n",
    "        mask_block[x]=False\n",
    "\n",
    "condition_imp = (label == b'imp')\n",
    "mask_imp= np.logical_and(condition_imp,mask_block)\n",
    "condition_imag = (label == b'imag')\n",
    "mask_imag= np.logical_and(condition_imag,mask_block)\n",
    "\n",
    "\n",
    "#\n",
    "\n",
    "roi_imp_all=np.zeros([0,len(motor_label)])\n",
    "roi_imag_all=np.zeros([0,len(motor_label)])\n",
    "rest_all=np.zeros([0,len(motor_label)])\n",
    "#roi_imp_all=np.zeros([0,444])\n",
    "#roi_imag_all=np.zeros([0,444])\n",
    "\n",
    "y_rest_all=np.zeros(0)\n",
    "y_all=np.zeros(0)\n",
    "block_all=np.zeros(0)\n",
    "block_rest_all=np.zeros(0)\n",
    "\n",
    "for i,n in enumerate(sorted(names)):\n",
    "    roi_name=fold+'asymroi_'+smt+'_'+n+'.npz'  \n",
    "    rest_name=foldrest+'asymroirest_'+smt+'_'+n+'.npz' \n",
    "    roi=np.load(roi_name)['roi']\n",
    "    rest=np.load(rest_name)['roi']\n",
    "    roi=roi[:,motor_label-1]\n",
    "    rest=rest[:,motor_label-1]\n",
    "    roi_imp=roi[mask_imp]\n",
    "    roi_imag=roi[mask_imag]\n",
    "    roi_imp_all=np.vstack((roi_imp_all,roi_imp))\n",
    "    roi_imag_all=np.vstack((roi_imag_all,roi_imag))\n",
    "    rest_all=np.vstack((rest_all,rest))\n",
    "    y_rest=np.full(rest.shape[0], label_suj[i])\n",
    "    y_imag=np.full(roi_imag.shape[0], label_suj[i])\n",
    "    y_rest_all=np.append(y_rest_all,y_rest)\n",
    "    y_all=np.append(y_all,y_imag)\n",
    "    block_imag=i*np.ones(roi_imag.shape[0])\n",
    "    block_all=np.append(block_all,block_imag)\n",
    "    block_rest=i*np.ones(rest.shape[0])\n",
    "    block_rest_all=np.append(block_rest_all,block_rest)\n",
    "\n",
    "\n",
    "gkf = GroupKFold(n_splits=10)\n",
    "\n"
   ]
  },
  {
   "cell_type": "code",
   "execution_count": null,
   "metadata": {},
   "outputs": [],
   "source": [
    "scores_imp_cv=np.zeros(0)\n",
    "for train_index, test_index in gkf.split(roi_imp_all, y_all, block_all):\n",
    "    y_train, y_test = y_all[train_index], y_all[test_index]\n",
    "    roi_train, roi_test = roi_imp_all[train_index], roi_imp_all[test_index]\n",
    "    pipeline.fit(roi_train,y_train)\n",
    "    score=pipeline.score(roi_test,y_test)\n",
    "    scores_imp_cv= np.append(scores_imp_cv,score)\n",
    "scores_imag_cv=np.zeros(0)\n",
    "for train_index, test_index in gkf.split(roi_imag_all, y_all, block_all):\n",
    "    y_train, y_test = y_all[train_index], y_all[test_index]\n",
    "    roi_train, roi_test = roi_imag_all[train_index], roi_imag_all[test_index]\n",
    "    pipeline.fit(roi_train,y_train)\n",
    "    score=pipeline.score(roi_test,y_test)\n",
    "    scores_imag_cv= np.append(scores_imag_cv,score)\n",
    "\n",
    "print('imp',scores_imp_cv.mean(),'imag',scores_imag_cv.mean())\n",
    "\n"
   ]
  },
  {
   "cell_type": "code",
   "execution_count": null,
   "metadata": {},
   "outputs": [],
   "source": [
    "scores_rest_cv=np.zeros(0)\n",
    "for train_index, test_index in gkf.split(rest_all, y_rest_all, block_rest_all):\n",
    "    y_train, y_test = y_rest_all[train_index], y_rest_all[test_index]\n",
    "    roi_train, roi_test = rest_all[train_index], rest_all[test_index]\n",
    "    pipeline.fit(roi_train,y_train)\n",
    "    score=pipeline.score(roi_test,y_test)\n",
    "    scores_rest_cv= np.append(scores_rest_cv,score)\n",
    "print('rest',scores_rest_cv.mean())"
   ]
  },
  {
   "cell_type": "code",
   "execution_count": 43,
   "metadata": {},
   "outputs": [
    {
     "name": "stdout",
     "output_type": "stream",
     "text": [
      "imp 0.520350877193 imag 0.560438596491 rest 0.57\n"
     ]
    }
   ],
   "source": [
    "print('imp',scores_imp_cv.mean(),'imag',scores_imag_cv.mean(),'rest',scores_rest_cv.mean())"
   ]
  },
  {
   "cell_type": "code",
   "execution_count": null,
   "metadata": {
    "collapsed": true
   },
   "outputs": [],
   "source": []
  }
 ],
 "metadata": {
  "kernelspec": {
   "display_name": "Python 3",
   "language": "python",
   "name": "python3"
  },
  "language_info": {
   "codemirror_mode": {
    "name": "ipython",
    "version": 3
   },
   "file_extension": ".py",
   "mimetype": "text/x-python",
   "name": "python",
   "nbconvert_exporter": "python",
   "pygments_lexer": "ipython3",
   "version": "3.5.3"
  }
 },
 "nbformat": 4,
 "nbformat_minor": 2
}
